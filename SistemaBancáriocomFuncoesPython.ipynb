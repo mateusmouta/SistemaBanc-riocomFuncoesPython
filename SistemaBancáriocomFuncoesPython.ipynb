{
  "nbformat": 4,
  "nbformat_minor": 0,
  "metadata": {
    "colab": {
      "provenance": [],
      "authorship_tag": "ABX9TyMWES97GCC3L/enWna0T9GL",
      "include_colab_link": true
    },
    "kernelspec": {
      "name": "python3",
      "display_name": "Python 3"
    },
    "language_info": {
      "name": "python"
    }
  },
  "cells": [
    {
      "cell_type": "markdown",
      "metadata": {
        "id": "view-in-github",
        "colab_type": "text"
      },
      "source": [
        "<a href=\"https://colab.research.google.com/github/mateusmouta/SistemaBanc-riocomFuncoesPython/blob/main/SistemaBanc%C3%A1riocomFuncoesPython.ipynb\" target=\"_parent\"><img src=\"https://colab.research.google.com/assets/colab-badge.svg\" alt=\"Open In Colab\"/></a>"
      ]
    },
    {
      "cell_type": "code",
      "execution_count": null,
      "metadata": {
        "colab": {
          "base_uri": "https://localhost:8080/"
        },
        "id": "I8ajVzIjvdCd",
        "outputId": "e1265828-9721-4717-86ab-4566e90078a3"
      },
      "outputs": [
        {
          "name": "stdout",
          "output_type": "stream",
          "text": [
            "Olá, bem vindo ao banco Pecunia\n",
            "[d] Depositar\n",
            "[s] Sacar\n",
            "[e] Extrato\n",
            "[c] Criar Usuário\n",
            "[a] Criar Conta\n",
            "[q] Sair\n",
            "=> q\n"
          ]
        }
      ],
      "source": [
        "# Variáveis globais\n",
        "saldo = 0\n",
        "limite = 500\n",
        "extrato = \"\"\n",
        "numero_saques = 0\n",
        "LIMITE_SAQUES = 3\n",
        "usuarios = []\n",
        "contas = []\n",
        "\n",
        "# Funções\n",
        "def depositar(saldo, valor, extrato, /):\n",
        "    if valor > 0:\n",
        "        saldo += valor\n",
        "        extrato += f\"Depósito: R$ {valor:.2f}\\n\"\n",
        "        print(f\"Depósito de R$ {valor:.2f} realizado com sucesso!\")\n",
        "    else:\n",
        "        print(\"Operação falhou! O valor informado é inválido.\")\n",
        "    return saldo, extrato\n",
        "\n",
        "def sacar(*, saldo, valor, extrato, limite, numero_saques, limite_saques):\n",
        "    excedeu_saldo = valor > saldo\n",
        "    excedeu_limite = valor > limite\n",
        "    excedeu_saques = numero_saques >= limite_saques\n",
        "\n",
        "    if excedeu_saldo:\n",
        "        print(\"Operação falhou! Você não tem saldo suficiente.\")\n",
        "    elif excedeu_limite:\n",
        "        print(\"Operação falhou! O valor do saque excede o limite.\")\n",
        "    elif excedeu_saques:\n",
        "        print(\"Operação falhou! Número máximo de saques excedido.\")\n",
        "    elif valor > 0:\n",
        "        saldo -= valor\n",
        "        extrato += f\"Saque: R$ {valor:.2f}\\n\"\n",
        "        numero_saques += 1\n",
        "        print(f\"Saque de R$ {valor:.2f} realizado com sucesso!\")\n",
        "    else:\n",
        "        print(\"Operação falhou! O valor informado é inválido.\")\n",
        "\n",
        "    return saldo, extrato, numero_saques\n",
        "\n",
        "def exibir_extrato(saldo, /, *, extrato):\n",
        "    print(\"\\n================ EXTRATO ================\")\n",
        "    print(\"Não foram realizadas movimentações.\" if not extrato else extrato)\n",
        "    print(f\"\\nSaldo: R$ {saldo:.2f}\")\n",
        "    print(\"==========================================\")\n",
        "\n",
        "def criar_usuario(nome, nascimento, cpf, endereco):\n",
        "    for usuario in usuarios:\n",
        "        if usuario['cpf'] == cpf:\n",
        "            print(\"Usuário com esse CPF já cadastrado!\")\n",
        "            return\n",
        "\n",
        "    usuarios.append({\"nome\": nome, \"nascimento\": nascimento, \"cpf\": cpf, \"endereco\": endereco})\n",
        "    print(\"Usuário criado com sucesso!\")\n",
        "\n",
        "def criar_conta(cpf):\n",
        "    for usuario in usuarios:\n",
        "        if usuario['cpf'] == cpf:\n",
        "            numero_conta = len(contas) + 1\n",
        "            contas.append({\"agencia\": \"0001\", \"numero\": numero_conta, \"usuario\": usuario})\n",
        "            print(\"Conta criada com sucesso!\")\n",
        "            return\n",
        "\n",
        "    print(\"Usuário não encontrado! Conta não criada.\")\n",
        "\n",
        "# Menu\n",
        "menu = \"\"\"Olá, bem vindo ao banco Pecunia\n",
        "[d] Depositar\n",
        "[s] Sacar\n",
        "[e] Extrato\n",
        "[c] Criar Usuário\n",
        "[a] Criar Conta\n",
        "[q] Sair\n",
        "=> \"\"\"\n",
        "\n",
        "# Loop principal\n",
        "while True:\n",
        "    opcao = input(menu).lower()\n",
        "\n",
        "    if opcao == \"d\":\n",
        "        valor = float(input(\"Informe o valor do depósito: \"))\n",
        "        saldo, extrato = depositar(saldo, valor, extrato)\n",
        "    elif opcao == \"s\":\n",
        "        valor = float(input(\"Informe o valor do saque: \"))\n",
        "        saldo, extrato, numero_saques = sacar(saldo=saldo, valor=valor, extrato=extrato, limite=limite, numero_saques=numero_saques, limite_saques=LIMITE_SAQUES)\n",
        "    elif opcao == \"e\":\n",
        "        exibir_extrato(saldo, extrato=extrato)\n",
        "    elif opcao == \"c\":\n",
        "        nome = input(\"Nome: \")\n",
        "        nascimento = input(\"Data de Nascimento (dd/mm/aaaa): \")\n",
        "        cpf = input(\"CPF: \")\n",
        "        endereco = input(\"Endereço: \")\n",
        "        criar_usuario(nome, nascimento, cpf, endereco)\n",
        "    elif opcao == \"a\":\n",
        "        cpf = input(\"Informe o CPF do usuário: \")\n",
        "        criar_conta(cpf)\n",
        "    elif opcao == \"q\":\n",
        "        break\n",
        "    else:\n",
        "        print(\"Operação inválida, por favor selecione novamente a operação desejada.\")\n"
      ]
    }
  ]
}